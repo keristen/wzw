{
  "cells": [
    {
      "cell_type": "markdown",
      "metadata": {
        "id": "view-in-github",
        "colab_type": "text"
      },
      "source": [
        "<a href=\"https://colab.research.google.com/github/keristen/wzw/blob/main/gemini/grounding/intro-grounding-gemini.ipynb\" target=\"_parent\"><img src=\"https://colab.research.google.com/assets/colab-badge.svg\" alt=\"Open In Colab\"/></a>"
      ]
    },
    {
      "cell_type": "code",
      "execution_count": null,
      "metadata": {
        "id": "ur8xi4C7S06n"
      },
      "outputs": [],
      "source": [
        "# Copyright 2024 Google LLC\n",
        "#\n",
        "# Licensed under the Apache License, Version 2.0 (the \"License\");\n",
        "# you may not use this file except in compliance with the License.\n",
        "# You may obtain a copy of the License at\n",
        "#\n",
        "#     https://www.apache.org/licenses/LICENSE-2.0\n",
        "#\n",
        "# Unless required by applicable law or agreed to in writing, software\n",
        "# distributed under the License is distributed on an \"AS IS\" BASIS,\n",
        "# WITHOUT WARRANTIES OR CONDITIONS OF ANY KIND, either express or implied.\n",
        "# See the License for the specific language governing permissions and\n",
        "# limitations under the License."
      ]
    },
    {
      "cell_type": "markdown",
      "metadata": {
        "id": "JAPoU8Sm5E6e"
      },
      "source": [
        "# Intro to Grounding with Gemini in Vertex AI\n",
        "\n",
        "<table align=\"left\">\n",
        "  <td style=\"text-align: center\">\n",
        "    <a href=\"https://colab.research.google.com/github/GoogleCloudPlatform/generative-ai/blob/main/gemini/grounding/intro-grounding-gemini.ipynb\">\n",
        "      <img width=\"32px\" src=\"https://www.gstatic.com/pantheon/images/bigquery/welcome_page/colab-logo.svg\" alt=\"Google Colaboratory logo\"><br> Run in Colab\n",
        "    </a>\n",
        "  </td>\n",
        "  <td style=\"text-align: center\">\n",
        "    <a href=\"https://console.cloud.google.com/vertex-ai/colab/import/https:%2F%2Fraw.githubusercontent.com%2FGoogleCloudPlatform%2Fgenerative-ai%2Fmain%2Fgemini%2Fgrounding%2Fintro-grounding-gemini.ipynb\">\n",
        "      <img width=\"32px\" src=\"https://lh3.googleusercontent.com/JmcxdQi-qOpctIvWKgPtrzZdJJK-J3sWE1RsfjZNwshCFgE_9fULcNpuXYTilIR2hjwN\" alt=\"Google Cloud Colab Enterprise logo\"><br> Run in Colab Enterprise\n",
        "    </a>\n",
        "  </td>\n",
        "  <td style=\"text-align: center\">\n",
        "    <a href=\"https://github.com/GoogleCloudPlatform/generative-ai/blob/main/gemini/grounding/intro-grounding-gemini.ipynb\">\n",
        "      <img width=\"32px\" src=\"https://www.svgrepo.com/download/217753/github.svg\" alt=\"GitHub logo\"><br> View on GitHub\n",
        "    </a>\n",
        "  </td>\n",
        "  <td style=\"text-align: center\">\n",
        "    <a href=\"https://console.cloud.google.com/vertex-ai/workbench/deploy-notebook?download_url=https://raw.githubusercontent.com/GoogleCloudPlatform/generative-ai/main/gemini/grounding/intro-grounding-gemini.ipynb\">\n",
        "      <img src=\"https://www.gstatic.com/images/branding/gcpiconscolors/vertexai/v1/32px.svg\" alt=\"Vertex AI logo\"><br> Open in Vertex AI Workbench\n",
        "    </a>\n",
        "  </td>\n",
        "  <td style=\"text-align: center\">\n",
        "    <a href=\"https://goo.gle/4jeQyFS\">\n",
        "      <img width=\"32px\" src=\"https://cdn.qwiklabs.com/assets/gcp_cloud-e3a77215f0b8bfa9b3f611c0d2208c7e8708ed31.svg\" alt=\"Google Cloud logo\"><br> Open in  Cloud Skills Boost\n",
        "    </a>\n",
        "  </td>\n",
        "</table>\n",
        "\n",
        "<div style=\"clear: both;\"></div>\n",
        "\n",
        "<b>Share to:</b>\n",
        "\n",
        "<a href=\"https://www.linkedin.com/sharing/share-offsite/?url=https%3A//github.com/GoogleCloudPlatform/generative-ai/blob/main/gemini/grounding/intro-grounding-gemini.ipynb\" target=\"_blank\">\n",
        "  <img width=\"20px\" src=\"https://upload.wikimedia.org/wikipedia/commons/8/81/LinkedIn_icon.svg\" alt=\"LinkedIn logo\">\n",
        "</a>\n",
        "\n",
        "<a href=\"https://bsky.app/intent/compose?text=https%3A//github.com/GoogleCloudPlatform/generative-ai/blob/main/gemini/grounding/intro-grounding-gemini.ipynb\" target=\"_blank\">\n",
        "  <img width=\"20px\" src=\"https://upload.wikimedia.org/wikipedia/commons/7/7a/Bluesky_Logo.svg\" alt=\"Bluesky logo\">\n",
        "</a>\n",
        "\n",
        "<a href=\"https://twitter.com/intent/tweet?url=https%3A//github.com/GoogleCloudPlatform/generative-ai/blob/main/gemini/grounding/intro-grounding-gemini.ipynb\" target=\"_blank\">\n",
        "  <img width=\"20px\" src=\"https://upload.wikimedia.org/wikipedia/commons/5/5a/X_icon_2.svg\" alt=\"X logo\">\n",
        "</a>\n",
        "\n",
        "<a href=\"https://reddit.com/submit?url=https%3A//github.com/GoogleCloudPlatform/generative-ai/blob/main/gemini/grounding/intro-grounding-gemini.ipynb\" target=\"_blank\">\n",
        "  <img width=\"20px\" src=\"https://redditinc.com/hubfs/Reddit%20Inc/Brand/Reddit_Logo.png\" alt=\"Reddit logo\">\n",
        "</a>\n",
        "\n",
        "<a href=\"https://www.facebook.com/sharer/sharer.php?u=https%3A//github.com/GoogleCloudPlatform/generative-ai/blob/main/gemini/grounding/intro-grounding-gemini.ipynb\" target=\"_blank\">\n",
        "  <img width=\"20px\" src=\"https://upload.wikimedia.org/wikipedia/commons/5/51/Facebook_f_logo_%282019%29.svg\" alt=\"Facebook logo\">\n",
        "</a>            "
      ]
    },
    {
      "cell_type": "markdown",
      "metadata": {
        "id": "49e1e41cea0d"
      },
      "source": [
        "| | |\n",
        "|-|-|\n",
        "|Author(s) | [Holt Skinner](https://github.com/holtskinner), [Kristopher Overholt](https://github.com/koverholt) |"
      ]
    },
    {
      "cell_type": "markdown",
      "metadata": {
        "id": "tvgnzT1CKxrO"
      },
      "source": [
        "## Overview\n",
        "\n",
        "**YouTube Video: Introduction to grounding with Gemini on Vertex AI**\n",
        "\n",
        "<a href=\"https://www.youtube.com/watch?v=Ph0g6dnsB4g&list=PLIivdWyY5sqJio2yeg1dlfILOUO2FoFRx\" target=\"_blank\">\n",
        "  <img src=\"https://img.youtube.com/vi/Ph0g6dnsB4g/maxresdefault.jpg\" alt=\"Introduction to grounding with Gemini on Vertex AI\" width=\"500\">\n",
        "</a>\n",
        "\n",
        "[Grounding in Vertex AI](https://cloud.google.com/vertex-ai/generative-ai/docs/multimodal/ground-gemini) lets you use generative text models to generate content grounded in your own documents and data. This capability lets the model access information at runtime that goes beyond its training data. By grounding model responses in Google Search results or data stores within [Vertex AI Search](https://cloud.google.com/generative-ai-app-builder/docs/enterprise-search-introduction), LLMs that are grounded in data can produce more accurate, up-to-date, and relevant responses.\n",
        "\n",
        "Grounding provides the following benefits:\n",
        "\n",
        "- Reduces model hallucinations (instances where the model generates content that isn't factual)\n",
        "- Anchors model responses to specific information, documents, and data sources\n",
        "- Enhances the trustworthiness, accuracy, and applicability of the generated content\n",
        "\n",
        "You can configure two different sources of grounding in Vertex AI:\n",
        "\n",
        "1. Google Search results for data that is publicly available and indexed.\n",
        "   - If you use this service in a production application, you will also need to [use a Google Search entry point](https://cloud.google.com/vertex-ai/generative-ai/docs/multimodal/grounding-search-entry-points).\n",
        "2. [Data stores in Vertex AI Search](https://cloud.google.com/generative-ai-app-builder/docs/create-datastore-ingest), which can include your own data in the form of website data, unstructured data, or structured data"
      ]
    },
    {
      "cell_type": "markdown",
      "metadata": {
        "id": "d975e698c9a4"
      },
      "source": [
        "### Objective\n",
        "\n",
        "In this tutorial, you learn how to:\n",
        "\n",
        "- Generate LLM text and chat model responses grounded in Google Search results\n",
        "- Compare the results of ungrounded LLM responses with grounded LLM responses\n",
        "- Create and use a data store in Vertex AI Search to ground responses in custom documents and data\n",
        "- Generate LLM text and chat model responses grounded in Vertex AI Search results\n",
        "\n",
        "This tutorial uses the following Google Cloud AI services and resources:\n",
        "\n",
        "- Vertex AI\n",
        "- Vertex AI Search\n",
        "\n",
        "The steps performed include:\n",
        "\n",
        "- Configuring the LLM and prompt for various examples\n",
        "- Sending example prompts to generative text and chat models in Vertex AI\n",
        "- Setting up a data store in Vertex AI Search with your own data\n",
        "- Sending example prompts with various levels of grounding (no grounding, web grounding, data store grounding)"
      ]
    },
    {
      "cell_type": "markdown",
      "metadata": {
        "id": "BF1j6f9HApxa"
      },
      "source": [
        "## Before you begin\n",
        "\n",
        "### Set up your Google Cloud project\n",
        "\n",
        "**The following steps are required, regardless of your notebook environment.**\n",
        "\n",
        "1. [Select or create a Google Cloud project](https://console.cloud.google.com/cloud-resource-manager). When you first create an account, you get a $300 free credit towards your compute/storage costs.\n",
        "1. [Make sure that billing is enabled for your project](https://cloud.google.com/billing/docs/how-to/modify-project).\n",
        "1. Enable the [Vertex AI and Vertex AI Search APIs](https://console.cloud.google.com/flows/enableapi?apiid=aiplatform.googleapis.com,discoveryengine.googleapis.com).\n",
        "1. If you are running this notebook locally, you need to install the [Cloud SDK](https://cloud.google.com/sdk)."
      ]
    },
    {
      "cell_type": "markdown",
      "metadata": {
        "id": "i7EUnXsZhAGF"
      },
      "source": [
        "### Install Google Gen AI SDK for Python\n",
        "\n",
        "Install the following packages required to execute this notebook."
      ]
    },
    {
      "cell_type": "code",
      "execution_count": 23,
      "metadata": {
        "id": "2b4ef9b72d43"
      },
      "outputs": [],
      "source": [
        "%pip install --upgrade --quiet google-genai"
      ]
    },
    {
      "cell_type": "markdown",
      "metadata": {
        "id": "sBCra4QMA2wR"
      },
      "source": [
        "### Authenticate your Google Cloud account\n",
        "\n",
        "If you are running this notebook on Google Colab, you will need to authenticate your environment. To do this, run the new cell below. This step is not required if you are using Vertex AI Workbench."
      ]
    },
    {
      "cell_type": "code",
      "execution_count": 24,
      "metadata": {
        "id": "603adbbf0532"
      },
      "outputs": [],
      "source": [
        "import sys\n",
        "\n",
        "if \"google.colab\" in sys.modules:\n",
        "    # Authenticate user to Google Cloud\n",
        "    from google.colab import auth\n",
        "\n",
        "    auth.authenticate_user()"
      ]
    },
    {
      "cell_type": "markdown",
      "metadata": {
        "id": "WReHDGG5g0XY"
      },
      "source": [
        "### Set Google Cloud project information and create client\n",
        "\n",
        "To get started using Vertex AI, you must have an existing Google Cloud project and [enable the Vertex AI API](https://console.cloud.google.com/flows/enableapi?apiid=aiplatform.googleapis.com).\n",
        "\n",
        "Learn more about [setting up a project and a development environment](https://cloud.google.com/vertex-ai/docs/start/cloud-environment).\n",
        "\n",
        "**If you don't know your project ID**, try the following:\n",
        "* Run `gcloud config list`.\n",
        "* Run `gcloud projects list`.\n",
        "* See the support page: [Locate the project ID](https://support.google.com/googleapi/answer/7014113)\n",
        "\n",
        "You can also change the `LOCATION` variable used by Vertex AI. Learn more about [Vertex AI regions](https://cloud.google.com/vertex-ai/docs/general/locations)."
      ]
    },
    {
      "cell_type": "code",
      "execution_count": 25,
      "metadata": {
        "id": "oM1iC_MfAts1"
      },
      "outputs": [],
      "source": [
        "import os\n",
        "\n",
        "PROJECT_ID = \"keristen-project-1\"  # @param {type: \"string\"}\n",
        "if not PROJECT_ID or PROJECT_ID == \"[your-project-id]\":\n",
        "    PROJECT_ID = str(os.environ.get(\"GOOGLE_CLOUD_PROJECT\"))\n",
        "\n",
        "LOCATION = os.environ.get(\"GOOGLE_CLOUD_REGION\", \"us-central1\")\n",
        "\n",
        "from google import genai\n",
        "\n",
        "client = genai.Client(vertexai=True, project=PROJECT_ID, location=LOCATION)"
      ]
    },
    {
      "cell_type": "markdown",
      "metadata": {
        "id": "960505627ddf"
      },
      "source": [
        "### Import libraries"
      ]
    },
    {
      "cell_type": "code",
      "execution_count": 26,
      "metadata": {
        "id": "PyQmSRbKA8r-"
      },
      "outputs": [],
      "source": [
        "from IPython.display import Markdown, display\n",
        "from google.genai.types import (\n",
        "    GenerateContentConfig,\n",
        "    GenerateContentResponse,\n",
        "    GoogleSearch,\n",
        "    Part,\n",
        "    Retrieval,\n",
        "    Tool,\n",
        "    VertexAISearch,\n",
        ")"
      ]
    },
    {
      "cell_type": "markdown",
      "metadata": {
        "id": "4e569c5d4a49"
      },
      "source": [
        "### Helper functions"
      ]
    },
    {
      "cell_type": "code",
      "execution_count": 27,
      "metadata": {
        "id": "307f36dbd36c"
      },
      "outputs": [],
      "source": [
        "def print_grounding_data(response: GenerateContentResponse) -> None:\n",
        "    candidate = response.candidates[0]\n",
        "\n",
        "    citation_metadata = getattr(candidate, \"citation_metadata\")\n",
        "    if citation_metadata:\n",
        "        print(\"Citations\")\n",
        "        for citation in citation_metadata.citations:\n",
        "            print(citation)\n",
        "\n",
        "    grounding_metadata = getattr(candidate, \"grounding_metadata\")\n",
        "    if grounding_metadata:\n",
        "        print(\"\\nGrounding Chunks\")\n",
        "        for grounding_chunk in grounding_metadata.grounding_chunks:\n",
        "            print(grounding_chunk)\n",
        "\n",
        "        print(\"\\nGrounding Supports\")\n",
        "        for grounding_support in grounding_metadata.grounding_supports:\n",
        "            print(grounding_support)"
      ]
    },
    {
      "cell_type": "markdown",
      "metadata": {
        "id": "55cf2dd17690"
      },
      "source": [
        "Initialize the Gemini model from Vertex AI:"
      ]
    },
    {
      "cell_type": "code",
      "execution_count": 28,
      "metadata": {
        "id": "652a8969dd5a"
      },
      "outputs": [],
      "source": [
        "MODEL_ID = \"gemini-2.0-flash\"  # @param {type: \"string\"}"
      ]
    },
    {
      "cell_type": "markdown",
      "metadata": {
        "id": "e336da7161af"
      },
      "source": [
        "## Example: Grounding with Google Search results\n",
        "\n",
        "In this example, you'll compare LLM responses with no grounding with responses that are grounded in the results of a Google Search. You'll ask a question about a the most recent solar eclipse."
      ]
    },
    {
      "cell_type": "code",
      "execution_count": 29,
      "metadata": {
        "id": "6a28ca4abb52"
      },
      "outputs": [],
      "source": [
        "PROMPT = \"You are an expert in astronomy. When is the next solar eclipse in the US?\""
      ]
    },
    {
      "cell_type": "markdown",
      "metadata": {
        "id": "25955ce5d263"
      },
      "source": [
        "### Text generation without grounding\n",
        "\n",
        "Make a prediction request to the LLM with no grounding:"
      ]
    },
    {
      "cell_type": "code",
      "execution_count": 30,
      "metadata": {
        "id": "a2e348ff93e6",
        "outputId": "30d4a3f6-6f4a-4f06-8822-8b7a47763c94",
        "colab": {
          "base_uri": "https://localhost:8080/",
          "height": 1000
        }
      },
      "outputs": [
        {
          "output_type": "display_data",
          "data": {
            "text/plain": [
              "<IPython.core.display.Markdown object>"
            ],
            "text/markdown": "Okay, let's talk solar eclipses in the US!\n\n**The next solar eclipse visible in the United States will be an annular solar eclipse on October 14, 2023.**\n\n*   **Type:** Annular Solar Eclipse. This means the Moon will be in a part of its orbit that is farther away from Earth, so it won't completely cover the Sun's disk. Instead, you'll see a brilliant ring of sunlight around the Moon, often called a \"ring of fire.\"\n*   **Path:** The path of annularity (where you see the ring of fire) will cross parts of Oregon, Nevada, Utah, New Mexico, and Texas. Even outside this path, a partial solar eclipse will be visible across a much larger area of the United States, including most of the western and southwestern states.\n*   **Important Safety Note:** **Never look directly at the Sun during a solar eclipse without proper eye protection!** Use ISO-certified solar viewing glasses or a handheld solar viewer. Regular sunglasses are *not* safe.\n\n**But wait! There's an even bigger one coming up soon after:**\n\n**The next *total* solar eclipse visible in the United States will be on April 8, 2024.**\n\n*   **Type:** Total Solar Eclipse. This is the \"big one,\" where the Moon completely blocks the Sun, turning day into twilight for a few precious minutes.\n*   **Path:** The path of totality will stretch from Texas, through the Midwest, and into the Northeast. Major cities that are potentially along the path of totality include Dallas, Indianapolis, Cleveland, and Buffalo.\n*   **Importance:** Total solar eclipses are rare and spectacular events. They are a fantastic opportunity for scientific observation, as well as a breathtaking experience for everyone who witnesses them.\n\nSo, to summarize:\n\n*   **October 14, 2023: Annular Solar Eclipse (ring of fire), primarily visible in the western and southwestern US.**\n*   **April 8, 2024: Total Solar Eclipse, crossing a path from Texas to the Northeast US.**\n\nStart planning now if you want to witness either of these eclipses! Hotel rooms and viewing spots along the path of totality tend to fill up well in advance.\n\nIs there anything else I can help you with regarding solar eclipses or astronomy?\n"
          },
          "metadata": {}
        }
      ],
      "source": [
        "response = client.models.generate_content(\n",
        "    model=MODEL_ID,\n",
        "    contents=PROMPT,\n",
        ")\n",
        "\n",
        "display(Markdown(response.text))"
      ]
    },
    {
      "cell_type": "markdown",
      "metadata": {
        "id": "5d7cb7cceb99"
      },
      "source": [
        "### Text generation grounded in Google Search results\n",
        "\n",
        "You can add the `tools` keyword argument with a `Tool` including `GoogleSearch` to instruct Gemini to first perform a Google Search with the prompt, then construct an answer based on the web search results.\n",
        "\n",
        "The search queries and [Search Entry Point](https://cloud.google.com/vertex-ai/generative-ai/docs/multimodal/grounding-search-entry-points) are available for each `Candidate` in the response."
      ]
    },
    {
      "cell_type": "code",
      "execution_count": null,
      "metadata": {
        "id": "1d9fb83b0ab9"
      },
      "outputs": [],
      "source": [
        "google_search_tool = Tool(google_search=GoogleSearch())\n",
        "\n",
        "response = client.models.generate_content(\n",
        "    model=MODEL_ID,\n",
        "    contents=PROMPT,\n",
        "    config=GenerateContentConfig(tools=[google_search_tool]),\n",
        ")\n",
        "\n",
        "display(Markdown(response.text))\n",
        "\n",
        "print(print_grounding_data(response))"
      ]
    },
    {
      "cell_type": "markdown",
      "metadata": {
        "id": "6d3920bb2ac0"
      },
      "source": [
        "Note that the response without grounding only has limited information from the LLM about solar eclipses. Whereas the response that was grounded in web search results contains the most up to date information from web search results that are returned as part of the LLM with grounding request."
      ]
    },
    {
      "cell_type": "markdown",
      "metadata": {
        "id": "59c98ab0f5fb"
      },
      "source": [
        "### Text generation with multimodal input grounded in Google Search results\n",
        "\n",
        "Gemini can also generate grounded responses with multimodal input. Let's try with this image of the Eiffel Tower.\n",
        "\n",
        "![Paris](https://storage.googleapis.com/github-repo/generative-ai/gemini/grounding/paris.jpg)"
      ]
    },
    {
      "cell_type": "code",
      "execution_count": null,
      "metadata": {
        "id": "5ebdda19afad"
      },
      "outputs": [],
      "source": [
        "PROMPT = \"What is the current temperature at this location?\"\n",
        "\n",
        "response = client.models.generate_content(\n",
        "    model=MODEL_ID,\n",
        "    contents=[\n",
        "        Part.from_uri(\n",
        "            file_uri=\"gs://github-repo/generative-ai/gemini/grounding/paris.jpg\",\n",
        "            mime_type=\"image/jpeg\",\n",
        "        ),\n",
        "        PROMPT,\n",
        "    ],\n",
        "    config=GenerateContentConfig(\n",
        "        tools=[google_search_tool],\n",
        "    ),\n",
        ")\n",
        "\n",
        "display(Markdown(response.text))\n",
        "print_grounding_data(response)"
      ]
    },
    {
      "cell_type": "markdown",
      "metadata": {
        "id": "77f0800f8762"
      },
      "source": [
        "## Example: Grounding with custom documents and data\n",
        "\n",
        "In this example, you'll compare LLM responses with no grounding with responses that are grounded in the [results of a data store in Vertex AI Search](https://cloud.google.com/generative-ai-app-builder/docs/create-datastore-ingest).\n",
        "\n",
        "The data store will contain internal documents from a fictional bank, Cymbal Bank. These documents aren't available on the public internet, so the Gemini model won't have any information about them by default."
      ]
    },
    {
      "cell_type": "markdown",
      "metadata": {
        "id": "1b308548c68b"
      },
      "source": [
        "### Creating a data store in Vertex AI Search\n",
        "\n",
        "In this example, you'll use a Google Cloud Storage bucket with a few sample internal documents for our bank. There's some docs about booking business travel, strategic plan for this Fiscal Year and HR docs describing the different jobs available in the company.\n",
        "\n",
        "Follow the tutorial steps in the Vertex AI Search documentation to:\n",
        "\n",
        "1. [Create a data store with unstructured data](https://cloud.google.com/generative-ai-app-builder/docs/try-enterprise-search#unstructured-data) that loads in documents from the GCS folder `gs://cloud-samples-data/gen-app-builder/search/cymbal-bank-employee`.\n",
        "2. [Create a search app](https://cloud.google.com/generative-ai-app-builder/docs/try-enterprise-search#create_a_search_app) that is attached to that data store. You should also enable the **Enterprise edition features** so that you can search indexed records within the data store.\n",
        "\n",
        "Note: The data store must be in the same project that you are using for Gemini.\n",
        "\n",
        "You can also follow this notebook to do it with code. [Create a Vertex AI Search Datastore and App\n",
        "](https://github.com/GoogleCloudPlatform/generative-ai/blob/main/search/create_datastore_and_search.ipynb)\n",
        "\n",
        "Once you've created a data store, obtain the Data Store ID and input it below.\n",
        "\n",
        "Note: You will need to wait for data ingestion to finish before using a data store with grounding. For more information, see [create a data store](https://cloud.google.com/generative-ai-app-builder/docs/create-data-store-es)."
      ]
    },
    {
      "cell_type": "code",
      "execution_count": 40,
      "metadata": {
        "id": "fcd767476241"
      },
      "outputs": [],
      "source": [
        "DATA_STORE_PROJECT_ID = \"keristen-project-1\"  # @param {type: \"string\"}\n",
        "DATA_STORE_REGION = \"global\"  # @param {type: \"string\"}\n",
        "# Replace this with your data store ID from Vertex AI Search\n",
        "DATA_STORE_ID = \"bank_1744125163440\"  # @param {type: \"string\"}\n",
        "\n",
        "DATA_STORE_NAME = f\"projects/{DATA_STORE_PROJECT_ID}/locations/{DATA_STORE_REGION}/collections/default_collection/dataStores/{DATA_STORE_ID}\""
      ]
    },
    {
      "cell_type": "markdown",
      "metadata": {
        "id": "ccc156676e0a"
      },
      "source": [
        "Now you can ask a question about the company culture:"
      ]
    },
    {
      "cell_type": "code",
      "execution_count": 41,
      "metadata": {
        "id": "9c1e1b1743bd"
      },
      "outputs": [],
      "source": [
        "PROMPT = \"What is the company culture like?\""
      ]
    },
    {
      "cell_type": "markdown",
      "metadata": {
        "id": "f365681544bb"
      },
      "source": [
        "### Text generation without grounding\n",
        "\n",
        "Make a prediction request to the LLM with no grounding:"
      ]
    },
    {
      "cell_type": "code",
      "execution_count": 42,
      "metadata": {
        "id": "299818ae71e9",
        "outputId": "24309e71-e5b1-4f58-f1bd-b0dad497c3a1",
        "colab": {
          "base_uri": "https://localhost:8080/",
          "height": 782
        }
      },
      "outputs": [
        {
          "output_type": "display_data",
          "data": {
            "text/plain": [
              "<IPython.core.display.Markdown object>"
            ],
            "text/markdown": "Company culture is a really interesting and important topic, and it can vary dramatically from company to company! To give you a helpful answer, I need a little more information.  Could you tell me:\n\n*   **Which company are you asking about?**\n*   **What aspects of company culture are you most interested in?**\n\nIn the meantime, here are some general aspects of company culture.\n\n*   **Values:** What principles guide the company's decisions and actions?\n*   **Work Environment:** Is it formal or casual? Are people collaborative or independent?\n*   **Communication:** How do people communicate with each other? Is it open and transparent?\n*   **Leadership:** What is the leadership style like? Are leaders accessible and supportive?\n*   **Opportunities for Growth:** Are there opportunities for training and development?\n*   **Work-Life Balance:** Is there a good balance between work and personal life?\n*   **Diversity and Inclusion:** Is the company diverse and inclusive? Are all employees treated with respect?\n*   **Social Events and Activities:** Does the company have social events or activities for employees?\n*   **Compensation and Benefits:** Are the compensation and benefits competitive?\n\nOnce you provide me with the company name or a general area/industry and specific aspects of culture you're curious about, I can provide a more detailed and relevant response."
          },
          "metadata": {}
        }
      ],
      "source": [
        "response = client.models.generate_content(\n",
        "    model=MODEL_ID,\n",
        "    contents=PROMPT,\n",
        ")\n",
        "\n",
        "display(Markdown(response.text))"
      ]
    },
    {
      "cell_type": "markdown",
      "metadata": {
        "id": "073f2ec42ff6"
      },
      "source": [
        "### Text generation grounded in Vertex AI Search results\n",
        "\n",
        "Now we can add the `tools` keyword arg with a grounding tool of `grounding.VertexAISearch()` to instruct the LLM to first perform a search within your custom data store, then construct an answer based on the relevant documents:"
      ]
    },
    {
      "cell_type": "code",
      "execution_count": 43,
      "metadata": {
        "id": "d4c5d53a37b4",
        "outputId": "4fe82aa0-4b0a-4659-fae9-300b814ac408",
        "colab": {
          "base_uri": "https://localhost:8080/",
          "height": 871
        }
      },
      "outputs": [
        {
          "output_type": "display_data",
          "data": {
            "text/plain": [
              "<IPython.core.display.Markdown object>"
            ],
            "text/markdown": "Cymbal Bank has a company culture that is described as:\n\n*   **Fast-paced and Results-Oriented:** They are focused on achieving goals and moving quickly.\n*   **Continuous Improvement and Innovation:** They are always seeking ways to get better and develop new ideas.\n*   **Collaboration, Communication, and Teamwork:** They value working together effectively.\n*   **Open-mindedness:** Being willing to learn about different cultures and perspectives, and being willing to change your own views when necessary.\n*   **Respect:** Respect is essential. This means being respectful of other people's cultures, religions, and sexual orientations, and opinions.\n*   **Inclusion:** Making sure that everyone feels welcome and included, regardless of their background or identity. Also making sure that everyone has an equal opportunity to participate and contribute.\n*   **Diversity:** Embracing different perspectives and experiences, and using them to create a more innovative and successful workplace. Being willing to challenge your own biases and assumptions.\n"
          },
          "metadata": {}
        },
        {
          "output_type": "stream",
          "name": "stdout",
          "text": [
            "\n",
            "Grounding Chunks\n",
            "retrieved_context=GroundingChunkRetrievedContext(text='6. Beyond your first year\\nAfter your first year at Cymbal Bank, you will have the opportunity to continue to grow and develop. You will have\\nthe opportunity to take on new challenges and to take on new roles. You will also have the opportunity to learn\\nfrom your colleagues and to mentor them. 7. Resources\\nIf you have any questions or concerns, please do not hesitate to reach out to your manager, HR department, or\\nteam members. We are here to help you succeed. 8. Welcome to the team! We are excited to have you on our team and we look forward to working with you. Tools to get familiar with Cymbal Drive: Our internal communication tool. Cymbal Expense: Our expense tracking tool. Cymbal Fly: Our travel booking tool. Cymbal Stay: Our hotel booking tool. Cymbal Work: Our project management tool. Company culture\\nCymbal Bank is a fast-paced, results-oriented company. We are always looking for ways to improve and innovate. We value collaboration, communication, and teamwork. \\n...\\nCymbal Bank New Employe Guide Updated August 11, 2023\\nAuthored by Lewis Cymbal, CEO 1. Welcome to Cymbal Bank\\nCongratulations on joining Cymbal Bank! We are excited to have you on our team. 2. Your first day\\nYour first day at Cymbal Bank will be a busy one. You will meet with your manager, HR department, and team\\nmembers. You will also be given a tour of the office and introduced to your new colleagues. 3. Your first week\\nIn your first week at Cymbal Bank, you will be given a lot of information to take in. You will learn about the company\\nculture, the products and services that we offer, and the expectations that we have for our employees. You will\\nalso be given a lot of paperwork to fill out. 4. Your first month\\nIn your first month at Cymbal Bank, you will start to get into the swing of things. You will start to learn your job and\\nthe responsibilities that come with it. You will also start to build relationships with your colleagues. 5. Your first year\\nIn your first year at Cymbal Bank, you will continue to learn and grow. You will start to take on more responsibility\\nand you will start to make a real impact on the company. You will also start to build a network of colleagues and\\nmentors. ', title='Cymbal Bank New Employee Guide', uri='gs://cloud-samples-data/gen-app-builder/search/cymbal-bank-employee/Cymbal Bank New Employee Guide.pdf') web=None\n",
            "retrieved_context=GroundingChunkRetrievedContext(text=\"Cymbal Bank Company Culture Updated August 11, 2023\\nAuthored by Lewis Cymbal, CEO 1. Be open-minded\\nOne of the most important things you can do to be a productive member of an inclusive and diverse workforce is\\nto be open-minded. This means being willing to learn about different cultures and perspectives, and being willing\\nto change your own views when necessary. It also means being respectful of others, even if you disagree with\\nthem. 2. Be respectful\\nRespect is essential for any productive workplace, but it is especially important in an inclusive and diverse\\nworkforce. This means being respectful of other people's cultures, religions, and sexual orientations. It also means\\nbeing respectful of other people's opinions, even if you disagree with them. 3. Be inclusive\\nInclusion is another important part of being a productive member of an inclusive and diverse workforce. This\\nmeans making sure that everyone feels welcome and included, regardless of their background or identity. It also\\nmeans making sure that everyone has an equal opportunity to participate and contribute. 4. Be diverse\\nDiversity is a strength, not a weakness. This means embracing different perspectives and experiences, and using\\nthem to create a more innovative and successful workplace. It also means being willing to challenge your own\\nbiases and assumptions. \\n...\\nCelebrate the diversity of your workplace and\\nthe contributions of all employees. \\n...\\n5. Be yourself\\nFinally, it is important to be yourself in an inclusive and diverse workforce. This means being honest about who you\\nare and what you believe in. It also means being comfortable with your own identity and being proud of who you are. Following these tips will help you to be a productive member of an inclusive and diverse workforce. By being\\nopen-minded, respectful, inclusive, diverse, and yourself, you can help to create a more positive and productive\\nworkplace for everyone. Here are some additional tips for working in an inclusive and diverse environment: Be aware of your own biases. We all have biases, whether we are aware of them or not. It is important to be\\naware of your own biases so that you can work to overcome them. Be open to feedback. If you are working in an inclusive and diverse environment, it is important to be open\\nto feedback. This will help you to learn and grow. Be willing to change. Change is inevitable, especially in an inclusive and diverse environment. Be willing to\\nchange your own views and behaviors when necessary. Be patient. It takes time to build trust and understanding in an inclusive and diverse environment. Be\\npatient with yourself and with others. Celebrate diversity. Diversity is a strength, not a weakness. \", title='Cymbal Bank Company Culture', uri='gs://cloud-samples-data/gen-app-builder/search/cymbal-bank-employee/Cymbal Bank Company Culture.pdf') web=None\n",
            "\n",
            "Grounding Supports\n",
            "confidence_scores=[0.6975583] grounding_chunk_indices=[0] segment=Segment(end_index=359, part_index=None, start_index=267, text='*   **Collaboration, Communication, and Teamwork:** They value working together effectively.')\n",
            "confidence_scores=[0.97572124] grounding_chunk_indices=[1] segment=Segment(end_index=509, part_index=None, start_index=360, text='*   **Open-mindedness:** Being willing to learn about different cultures and perspectives, and being willing to change your own views when necessary.')\n",
            "confidence_scores=[0.92191774] grounding_chunk_indices=[1] segment=Segment(end_index=548, part_index=None, start_index=510, text='*   **Respect:** Respect is essential.')\n",
            "confidence_scores=[0.9032951] grounding_chunk_indices=[1] segment=Segment(end_index=654, part_index=None, start_index=549, text=\"This means being respectful of other people's cultures, religions, and sexual orientations, and opinions.\")\n",
            "confidence_scores=[0.9674823] grounding_chunk_indices=[1] segment=Segment(end_index=771, part_index=None, start_index=655, text='*   **Inclusion:** Making sure that everyone feels welcome and included, regardless of their background or identity.')\n",
            "confidence_scores=[0.89171696] grounding_chunk_indices=[1] segment=Segment(end_index=858, part_index=None, start_index=772, text='Also making sure that everyone has an equal opportunity to participate and contribute.')\n",
            "confidence_scores=[0.9570703] grounding_chunk_indices=[1] segment=Segment(end_index=996, part_index=None, start_index=859, text='*   **Diversity:** Embracing different perspectives and experiences, and using them to create a more innovative and successful workplace.')\n",
            "confidence_scores=[0.842441] grounding_chunk_indices=[1] segment=Segment(end_index=1056, part_index=None, start_index=997, text='Being willing to challenge your own biases and assumptions.')\n"
          ]
        }
      ],
      "source": [
        "vertex_ai_search_tool = Tool(\n",
        "    retrieval=Retrieval(vertex_ai_search=VertexAISearch(datastore=DATA_STORE_NAME))\n",
        ")\n",
        "\n",
        "response = client.models.generate_content(\n",
        "    model=MODEL_ID,\n",
        "    contents=\"What is the company culture like?\",\n",
        "    config=GenerateContentConfig(tools=[vertex_ai_search_tool]),\n",
        ")\n",
        "\n",
        "display(Markdown(response.text))\n",
        "print_grounding_data(response)"
      ]
    },
    {
      "cell_type": "markdown",
      "metadata": {
        "id": "e3f985c704cd"
      },
      "source": [
        "Note that the response without grounding doesn't have any context about what company we are asking about. Whereas the response that was grounded in Vertex AI Search results contains information from the documents provided, along with citations of the information.\n",
        "\n",
        "<div class=\"alert alert-block alert-warning\">\n",
        "<b>⚠️ Important notes:</b><br>\n",
        "<br>\n",
        "<b>If you get an error when running the previous cell:</b><br>\n",
        "&nbsp;&nbsp;&nbsp;&nbsp;In order for this sample notebook to work with data store in Vertex AI Search,<br>\n",
        "&nbsp;&nbsp;&nbsp;&nbsp;you'll need to create a <a href=\"https://cloud.google.com/generative-ai-app-builder/docs/try-enterprise-search#create_a_data_store\">data store</a> <b>and</b> a <a href=\"https://cloud.google.com/generative-ai-app-builder/docs/try-enterprise-search#create_a_search_app\">search app</a> associated with it in Vertex AI Search.<br>\n",
        "&nbsp;&nbsp;&nbsp;&nbsp;If you only create a data store, the previous request will return errors when making queries against the data store.\n",
        "<br><br>\n",
        "<b>If you get an empty response when running the previous cell:</b><br>\n",
        "&nbsp;&nbsp;&nbsp;&nbsp;You will need to wait for data ingestion to finish before using a data store with grounding.<br>\n",
        "&nbsp;&nbsp;&nbsp;&nbsp;For more information, see <a href=\"https://cloud.google.com/generative-ai-app-builder/docs/create-data-store-es\">create a data store</a>.\n",
        "</div>\n",
        "</div>"
      ]
    },
    {
      "cell_type": "markdown",
      "metadata": {
        "id": "54562717e2a4"
      },
      "source": [
        "## Example: Grounded chat responses\n",
        "\n",
        "You can also use grounding when using chat conversations in Vertex AI. In this example, you'll compare LLM responses with no grounding with responses that are grounded in the results of a Google Search and a data store in Vertex AI Search."
      ]
    },
    {
      "cell_type": "code",
      "execution_count": 44,
      "metadata": {
        "id": "490cf1ed3399"
      },
      "outputs": [],
      "source": [
        "PROMPT = \"What are managed datasets in Vertex AI?\"\n",
        "PROMPT_FOLLOWUP = \"What types of data can I use?\""
      ]
    },
    {
      "cell_type": "markdown",
      "metadata": {
        "id": "b59783e4f1ce"
      },
      "source": [
        "### Chat session grounded in Google Search results\n",
        "\n",
        "Now you can add the `tools` keyword arg with a Tool of `GoogleSearch` to instruct the chat model to first perform a Google Search with the prompt, then construct an answer based on the web search results:"
      ]
    },
    {
      "cell_type": "code",
      "execution_count": 45,
      "metadata": {
        "id": "58edb2bd860f",
        "outputId": "903d112f-a1e2-4f4c-c0b6-1a86353c646f",
        "colab": {
          "base_uri": "https://localhost:8080/",
          "height": 1000
        }
      },
      "outputs": [
        {
          "output_type": "display_data",
          "data": {
            "text/plain": [
              "<IPython.core.display.Markdown object>"
            ],
            "text/markdown": "A managed dataset in Vertex AI serves as a centralized repository designed for your machine learning data. It offers a structured approach to manage, prepare, and access your data, streamlining the processes of training and serving machine learning models.\n\nHere's a breakdown of the key aspects and benefits:\n\n*   **Centralized Management:** Managed datasets are stored in a central location within Vertex AI, providing a single source of truth for your machine learning data.\n*   **Data Preparation:** They support various data preparation tasks, including cleansing, transformation, and encoding.\n*   **Automated Data Preprocessing:** Vertex AI provides built-in data preprocessing capabilities for managed datasets, automatically handling tasks like data cleaning, normalization, and feature engineering.\n*   **Integrated Model Training:** Managed datasets can be seamlessly integrated into model training pipelines within Vertex AI, enabling users to directly utilize their datasets for training without additional setup or data preparation.\n*   **Version Control:** They provide versioned repositories for storing, labeling, governing, and visualizing the data used to train machine learning models.\n*   **Lineage Tracking:** You can track model lineage for governance.\n*   **Performance Comparison**: Compare AutoML and custom model performance.\n*   **Access Control:** Attach fine-grained access controls.\n*   **Data Splitting:** Automatically generate train/test sets.\n\nTo use managed datasets in Vertex AI:\n\n1.  **Create a Dataset:** Navigate to the Datasets section in Vertex AI and click \"Create Dataset.\"\n2.  **Select Data Type:** Select the appropriate data type (Tabular, Image, Text, or Video) and provide a name for the dataset.\n3.  **Choose a Storage Location:** Specify the storage location for the dataset. You can import data from local files, Cloud Storage buckets, or BigQuery tables.\n4.  **Define Data Schema (Optional):** For tabular datasets, define the schema of the data, including column names and data types. This helps Vertex AI understand the structure of the data and perform automated preprocessing.\n\nManaged datasets are required for AutoML training but optional for custom training.\n"
          },
          "metadata": {}
        },
        {
          "output_type": "display_data",
          "data": {
            "text/plain": [
              "<IPython.core.display.Markdown object>"
            ],
            "text/markdown": "Vertex AI managed datasets support a variety of data types, including:\n\n*   **Tabular Datasets:** Structured data organized in rows and columns. Common formats include CSV or JSON. Use cases include regression, classification, and forecasting.\n*   **Image Datasets:** Images for tasks like image classification (identifying objects in an image), object detection (drawing bounding boxes around objects), and image segmentation. Supported formats include PNG, JPEG, GIF, BMP, and ICO.\n*   **Text Datasets:** Written text for tasks like text classification, sentiment analysis, and natural language processing (NLP).\n*   **Video Datasets:** Videos for tasks like video classification, object tracking, and action recognition.\n\nAdditionally, data can be imported from various sources:\n\n*   Local files\n*   Cloud Storage buckets\n*   BigQuery tables\n"
          },
          "metadata": {}
        }
      ],
      "source": [
        "chat = client.chats.create(\n",
        "    model=MODEL_ID,\n",
        "    config=GenerateContentConfig(tools=[Tool(google_search=GoogleSearch())]),\n",
        ")\n",
        "\n",
        "response = chat.send_message(PROMPT)\n",
        "display(Markdown(response.text))\n",
        "\n",
        "response = chat.send_message(PROMPT_FOLLOWUP)\n",
        "display(Markdown(response.text))"
      ]
    },
    {
      "cell_type": "markdown",
      "metadata": {
        "id": "87be7f661f14"
      },
      "source": [
        "### Chat session grounded in Vertex AI Search results\n",
        "\n",
        "Now we can add the `tools` keyword arg with a grounding tool of `grounding.VertexAISearch()` to instruct the chat model to first perform a search within your custom data store, then construct an answer based on the relevant documents:"
      ]
    },
    {
      "cell_type": "code",
      "execution_count": 48,
      "metadata": {
        "id": "8fdad0c3f1f3"
      },
      "outputs": [],
      "source": [
        "PROMPT = \"How do I book business travel?\"\n",
        "PROMPT_FOLLOWUP = \"Give me more details.\""
      ]
    },
    {
      "cell_type": "code",
      "execution_count": 49,
      "metadata": {
        "id": "1a824202a8f0",
        "outputId": "ea735230-c7d5-486b-e699-165c9a806476",
        "colab": {
          "base_uri": "https://localhost:8080/",
          "height": 1000
        }
      },
      "outputs": [
        {
          "output_type": "display_data",
          "data": {
            "text/plain": [
              "<IPython.core.display.Markdown object>"
            ],
            "text/markdown": "Booking business travel generally involves these steps:\n\n1.  **Determine Company Policy:** Check your company's travel policy for preferred vendors, spending limits, and booking procedures.\n2.  **Use Company Travel Tools:** Utilize your company's designated travel booking tool or agency if one exists. Examples of such tools are \"Cymbal Fly\" for booking flights, \"Cymbal Stay\" for booking hotels, and \"Cymbal Drive\" for booking rental cars.\n3.  **Book Flights:** Search for flights based on destination, date, and time, and filter by airline, price, and duration.\n4.  **Book Hotels:** Search for hotels based on destination, date, and time, and filter by price, rating, and amenities.\n5.  **Book Rental Cars:** Search for rental cars by destination, date, and time, and filter by price, size, and features.\n6.  **Submit Expenses:** After your trip, submit expenses using your company's expense tracking tool, such as \"Cymbal Expense\".\n7.  **Receive Reimbursement:** Once your expense report is approved, you'll receive reimbursement via direct deposit or check.\n8.  **Request Travel Advance:** If needed, request a travel advance from your manager or HR department.\n9.  **Follow Up:** Keep your manager or HR department updated on your travel to ensure timely reimbursement.\n"
          },
          "metadata": {}
        },
        {
          "output_type": "display_data",
          "data": {
            "text/plain": [
              "<IPython.core.display.Markdown object>"
            ],
            "text/markdown": "To give you more specific details, I need to know what aspects of booking business travel you're most interested in. However, I can provide a more detailed breakdown of the general steps involved:\n\nOkay, let's break down business travel booking in more detail:\n\n**1. Understanding & Adhering to Company Policy:**\n\n*   **Locate the Policy:** Your company's travel policy is your bible. It dictates what you can and cannot do. Look for it on your company intranet, HR portal, or ask your manager.\n*   **Key Elements:** Pay close attention to:\n    *   **Approved Vendors:** Many companies have negotiated rates with specific airlines, hotels, and rental car companies. You may be required to use these.\n    *   **Spending Limits:** Understand the per diem for meals, maximum hotel rates, and any restrictions on class of travel (e.g., economy vs. business class for flights).\n    *   **Approval Processes:** Know when you need pre-approval for travel, and who needs to approve it.\n    *   **Expense Reporting Requirements:** Understand what receipts are required, which forms to use, and the deadline for submitting expenses.\n\n**2. Using Company Travel Tools/Agencies:**\n\n*   **Mandatory Platforms:** Many companies require you to use a specific online booking tool or a designated travel agency. This helps them track travel spend, enforce policy, and often get better rates.\n*   **Familiarize Yourself:** If your company uses a tool like \"Cymbal Fly\" (for flights), \"Cymbal Stay\" (for hotels), or \"Cymbal Drive\" (for rental cars) take the time to learn how to use them effectively.\n*   **Agency Support:** If using a travel agency, understand their contact information and hours of operation. They can assist with complex itineraries, last-minute changes, and travel emergencies.\n\n**3. Booking Flights:**\n\n*   **Search Effectively:** When using a booking tool, enter your destination, dates, and preferred times. Be flexible with your dates if possible, as prices can vary significantly.\n*   **Consider Connecting Flights:** Non-stop flights are convenient but often more expensive. Consider connecting flights if it saves the company money.\n*   **Airline Preferences:** If your company policy allows, stick to airlines where you have frequent flyer status.\n*   **Review Baggage Fees:** Factor in baggage fees when comparing flight costs.\n*   **Seat Selection:** Choose your seat in advance, if possible.\n\n**4. Booking Hotels:**\n\n*   **Location, Location, Location:** Select a hotel that's conveniently located near your meeting location or client site.\n*   **Read Reviews:** Check online reviews to get an idea of the hotel's quality and service.\n*   **Amenities:** Consider amenities like free Wi-Fi, breakfast, and a gym.\n*   **Corporate Rates:** Always check if your company has a negotiated rate with the hotel.\n\n**5. Booking Rental Cars:**\n\n*   **Car Size:** Choose a car size that's appropriate for your needs. A compact car is usually sufficient for one person, while a larger car may be necessary for multiple passengers or luggage.\n*   **Insurance:** Understand your company's policy on rental car insurance. You may already be covered by your corporate insurance policy.\n*   **Location:** Pick up and drop off the car at the most convenient location.\n*   **Check for Damage:** Before driving off, carefully inspect the car for any existing damage and document it.\n\n**6. Expense Reporting & Reimbursement:**\n\n*   **Track Expenses Diligently:** Keep all receipts for eligible expenses, such as flights, hotels, meals, transportation, and business-related entertainment.\n*   **Use Company Expense Tool:** Familiarize yourself with your company's expense reporting tool (e.g., \"Cymbal Expense\").\n*   **Submit on Time:** Submit your expense report promptly to ensure timely reimbursement.\n*   **Policy Compliance:** Ensure all expenses comply with your company's travel policy.\n\n**7. Travel Advances:**\n\n*   **When to Request:** If you anticipate significant out-of-pocket expenses, request a travel advance well in advance of your trip.\n*   **Follow Procedure:** Follow your company's procedure for requesting advances.\n\n**8. Duty of Care:**\n\n*   **Company Responsibility:** Many companies have a \"duty of care\" to ensure the safety and well-being of their employees while traveling.\n*   **Emergency Contacts:** Provide your company with your emergency contact information.\n*   **Travel Alerts:** Be aware of any travel advisories or alerts for your destination.\n"
          },
          "metadata": {}
        }
      ],
      "source": [
        "chat = client.chats.create(\n",
        "    model=MODEL_ID,\n",
        "    config=GenerateContentConfig(\n",
        "        tools=[\n",
        "            Tool(\n",
        "                retrieval=Retrieval(\n",
        "                    vertex_ai_search=VertexAISearch(datastore=DATA_STORE_NAME)\n",
        "                )\n",
        "            )\n",
        "        ]\n",
        "    ),\n",
        ")\n",
        "\n",
        "response = chat.send_message(PROMPT)\n",
        "display(Markdown(response.text))\n",
        "\n",
        "response = chat.send_message(PROMPT_FOLLOWUP)\n",
        "display(Markdown(response.text))"
      ]
    },
    {
      "cell_type": "markdown",
      "metadata": {
        "id": "TpV-iwP9qw9c"
      },
      "source": [
        "## Cleaning up\n",
        "\n",
        "To avoid incurring charges to your Google Cloud account for the resources used in this notebook, follow these steps:\n",
        "\n",
        "1. To avoid unnecessary Google Cloud charges, use the [Google Cloud console](https://console.cloud.google.com/) to delete your project if you do not need it. Learn more in the Google Cloud documentation for [managing and deleting your project](https://cloud.google.com/resource-manager/docs/creating-managing-projects).\n",
        "1. If you used an existing Google Cloud project, delete the resources you created to avoid incurring charges to your account. For more information, refer to the documentation to [Delete data from a data store in Vertex AI Search](https://cloud.google.com/generative-ai-app-builder/docs/delete-datastores), then delete your data store.\n",
        "2. Disable the [Vertex AI Search API](https://console.cloud.google.com/apis/api/discoveryengine.googleapis.com) and [Vertex AI API](https://console.cloud.google.com/apis/api/aiplatform.googleapis.com) in the Google Cloud Console."
      ]
    }
  ],
  "metadata": {
    "colab": {
      "name": "intro-grounding-gemini.ipynb",
      "provenance": [],
      "include_colab_link": true
    },
    "kernelspec": {
      "display_name": "Python 3",
      "name": "python3"
    }
  },
  "nbformat": 4,
  "nbformat_minor": 0
}